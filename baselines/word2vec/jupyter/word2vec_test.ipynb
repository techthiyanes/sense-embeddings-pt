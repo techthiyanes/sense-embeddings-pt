{
 "cells": [
  {
   "cell_type": "markdown",
   "metadata": {
    "collapsed": true
   },
   "source": [
    "# _Word Embeddings_\n",
    "\n",
    "Neste notebook testaremos o modelo gerado em word2vec_train.ipynb em uma tarefa intrínseca de analogia semântica usando álgebra vetorial."
   ]
  },
  {
   "cell_type": "code",
   "execution_count": 4,
   "metadata": {},
   "outputs": [],
   "source": [
    "import gensim\n",
    "from gensim.models import KeyedVectors"
   ]
  },
  {
   "cell_type": "markdown",
   "metadata": {},
   "source": [
    "Caminho onde salvamos o modelo treinado."
   ]
  },
  {
   "cell_type": "code",
   "execution_count": 5,
   "metadata": {},
   "outputs": [],
   "source": [
    "#import data\n",
    "#outp = \"model/word2vec/wiki.pt-br.word2vec.model\"\n",
    "#outp = \"model/word2vec/word2vec_s300.txt\"\n",
    "outp = \"/home/jessica/Documentos/UFSCar/Pesquisa/Projeto/portuguese_word_embeddings/models/multisense_s300_ptbreu_sg.txt\""
   ]
  },
  {
   "cell_type": "markdown",
   "metadata": {},
   "source": [
    "Load do modelo treinado. Trata-se de arquivo .model gerado no momento do .save do notebook anterior."
   ]
  },
  {
   "cell_type": "code",
   "execution_count": 6,
   "metadata": {},
   "outputs": [],
   "source": [
    "#Load data\n",
    "#model = gensim.models.Word2Vec.load(outp)\n",
    "model = KeyedVectors.load_word2vec_format(outp, unicode_errors=\"ignore\")"
   ]
  },
  {
   "cell_type": "markdown",
   "metadata": {},
   "source": [
    "## Inferências\n",
    "\n",
    "A similaridade semântica entre duas palavras pode ser dada pelo cosseno entre seus vetores correspondentes. Em geral, o cosseno é definido como na equação abaixo, onde $\\vec{x}$ e $\\vec{y}$ são os vetores sendo comparados. Esse valor mede a distância entre os diferentes contextos de ocorrência das palavras que estão sendo comparadas.\n",
    "\n",
    "$$ cos(\\vec{x}|\\vec{y}) = \\frac{\\vec{x}.\\vec{y}}{|\\vec{x}||\\vec{y}|} $$\n",
    "\n",
    "* **most_similar**: Calcula a similaridade de cosseno entre uma média simples dos vetores de peso das palavras dadas e os vetores de peso de cada uma."
   ]
  },
  {
   "cell_type": "code",
   "execution_count": 7,
   "metadata": {},
   "outputs": [
    {
     "name": "stderr",
     "output_type": "stream",
     "text": [
      "/usr/local/lib/python3.5/dist-packages/ipykernel_launcher.py:1: DeprecationWarning: Call to deprecated `wv` (Attribute will be removed in 4.0.0, use self instead).\n",
      "  \"\"\"Entry point for launching an IPython kernel.\n"
     ]
    },
    {
     "data": {
      "text/plain": [
       "[('indicadores', 0.4691740572452545),\n",
       " ('amdata', 0.4603707194328308),\n",
       " ('eurostat', 0.4583383798599243),\n",
       " ('apadok', 0.44106584787368774),\n",
       " ('pankki', 0.4264356791973114),\n",
       " ('bce', 0.4207582473754883),\n",
       " ('ine', 0.41908469796180725),\n",
       " ('bdp', 0.417889803647995),\n",
       " ('da-dos', 0.41349899768829346),\n",
       " ('istat', 0.41139379143714905)]"
      ]
     },
     "execution_count": 7,
     "metadata": {},
     "output_type": "execute_result"
    }
   ],
   "source": [
    "model.wv.most_similar(positive=['banco', 'dados'], negative=['dinheiro'])"
   ]
  },
  {
   "cell_type": "code",
   "execution_count": 8,
   "metadata": {},
   "outputs": [
    {
     "name": "stderr",
     "output_type": "stream",
     "text": [
      "/usr/local/lib/python3.5/dist-packages/ipykernel_launcher.py:1: DeprecationWarning: Call to deprecated `wv` (Attribute will be removed in 4.0.0, use self instead).\n",
      "  \"\"\"Entry point for launching an IPython kernel.\n"
     ]
    },
    {
     "data": {
      "text/plain": [
       "[('dilma', 0.6533478498458862),\n",
       " ('rousseff', 0.6379678249359131),\n",
       " ('petista', 0.6316540837287903),\n",
       " ('roussef', 0.6101144552230835),\n",
       " ('mercadante', 0.5778586864471436),\n",
       " ('gleisi', 0.5529927015304565),\n",
       " ('peemedebista', 0.5502346754074097),\n",
       " ('sarney', 0.5452409982681274),\n",
       " ('presidenta', 0.5434746742248535),\n",
       " ('rouseff', 0.5418508052825928)]"
      ]
     },
     "execution_count": 8,
     "metadata": {},
     "output_type": "execute_result"
    }
   ],
   "source": [
    "model.wv.most_similar(positive=['lula', 'mulher'], negative=['homem'])"
   ]
  },
  {
   "cell_type": "code",
   "execution_count": 18,
   "metadata": {},
   "outputs": [
    {
     "name": "stderr",
     "output_type": "stream",
     "text": [
      "/usr/local/lib/python3.5/dist-packages/ipykernel_launcher.py:1: DeprecationWarning: Call to deprecated `wv` (Attribute will be removed in 4.0.0, use self instead).\n",
      "  \"\"\"Entry point for launching an IPython kernel.\n"
     ]
    },
    {
     "data": {
      "text/plain": [
       "[('advogada', 0.6275117993354797),\n",
       " ('filha', 0.5745003819465637),\n",
       " ('esposa', 0.5377657413482666),\n",
       " ('advogados', 0.5233942270278931),\n",
       " ('jornalista', 0.5217717885971069),\n",
       " ('casado', 0.4966081380844116),\n",
       " ('casada', 0.4895014464855194),\n",
       " ('empresário', 0.48666468262672424),\n",
       " ('maria', 0.4836043417453766),\n",
       " ('professora', 0.4786946773529053)]"
      ]
     },
     "execution_count": 18,
     "metadata": {},
     "output_type": "execute_result"
    }
   ],
   "source": [
    "model.wv.most_similar(positive=['advogado', 'mulher'], negative=['homem'])"
   ]
  },
  {
   "cell_type": "code",
   "execution_count": 19,
   "metadata": {},
   "outputs": [
    {
     "name": "stderr",
     "output_type": "stream",
     "text": [
      "/usr/local/lib/python3.5/dist-packages/ipykernel_launcher.py:1: DeprecationWarning: Call to deprecated `wv` (Attribute will be removed in 4.0.0, use self instead).\n",
      "  \"\"\"Entry point for launching an IPython kernel.\n"
     ]
    },
    {
     "data": {
      "text/plain": [
       "[('médica', 0.6734031438827515),\n",
       " ('enfermeira', 0.5617421865463257),\n",
       " ('hospital', 0.5431410670280457),\n",
       " ('clínica', 0.5397686958312988),\n",
       " ('filha', 0.5326904058456421),\n",
       " ('pediatra', 0.5291749238967896),\n",
       " ('médicos', 0.5225186944007874),\n",
       " ('mãe', 0.5204748511314392),\n",
       " ('esposa', 0.49571043252944946),\n",
       " ('ginecologista', 0.49315834045410156)]"
      ]
     },
     "execution_count": 19,
     "metadata": {},
     "output_type": "execute_result"
    }
   ],
   "source": [
    "model.wv.most_similar(positive=['médico', 'mulher'], negative=['homem'])"
   ]
  },
  {
   "cell_type": "code",
   "execution_count": 20,
   "metadata": {},
   "outputs": [
    {
     "name": "stderr",
     "output_type": "stream",
     "text": [
      "/usr/local/lib/python3.5/dist-packages/ipykernel_launcher.py:1: DeprecationWarning: Call to deprecated `wv` (Attribute will be removed in 4.0.0, use self instead).\n",
      "  \"\"\"Entry point for launching an IPython kernel.\n"
     ]
    },
    {
     "data": {
      "text/plain": [
       "[('designer', 0.41972726583480835),\n",
       " ('desenvolvedor', 0.3794146180152893),\n",
       " ('analista', 0.35477110743522644),\n",
       " ('roteirista', 0.35358235239982605),\n",
       " ('empresária', 0.34809982776641846),\n",
       " ('assistente', 0.3353085517883301),\n",
       " ('iniciante', 0.3296312689781189),\n",
       " ('graciela', 0.32957756519317627),\n",
       " ('psicólogo', 0.3219916820526123),\n",
       " ('figurinista', 0.3186722993850708)]"
      ]
     },
     "execution_count": 20,
     "metadata": {},
     "output_type": "execute_result"
    }
   ],
   "source": [
    "model.wv.most_similar(positive=['programador', 'mulher'], negative=['homem'])"
   ]
  },
  {
   "cell_type": "code",
   "execution_count": 21,
   "metadata": {},
   "outputs": [
    {
     "name": "stderr",
     "output_type": "stream",
     "text": [
      "/usr/local/lib/python3.5/dist-packages/ipykernel_launcher.py:1: DeprecationWarning: Call to deprecated `wv` (Attribute will be removed in 4.0.0, use self instead).\n",
      "  \"\"\"Entry point for launching an IPython kernel.\n"
     ]
    },
    {
     "data": {
      "text/plain": [
       "[('paris', 0.7103973627090454),\n",
       " ('londres', 0.521013617515564),\n",
       " ('bruxelas', 0.5062755942344666),\n",
       " ('francesa', 0.49079862236976624),\n",
       " ('estrasburgo', 0.483418345451355),\n",
       " ('berlim', 0.46447625756263733),\n",
       " ('coimbra', 0.46246010065078735),\n",
       " ('centro', 0.4608624279499054),\n",
       " ('francês', 0.4571777880191803),\n",
       " ('iorque', 0.4483019709587097)]"
      ]
     },
     "execution_count": 21,
     "metadata": {},
     "output_type": "execute_result"
    }
   ],
   "source": [
    "model.wv.most_similar(positive=['frança', 'lisboa'], negative=['portugal'])"
   ]
  },
  {
   "cell_type": "code",
   "execution_count": 22,
   "metadata": {},
   "outputs": [
    {
     "name": "stderr",
     "output_type": "stream",
     "text": [
      "/usr/local/lib/python3.5/dist-packages/ipykernel_launcher.py:1: DeprecationWarning: Call to deprecated `wv` (Attribute will be removed in 4.0.0, use self instead).\n",
      "  \"\"\"Entry point for launching an IPython kernel.\n"
     ]
    },
    {
     "data": {
      "text/plain": [
       "[('intolerável', 0.5022335648536682),\n",
       " ('insustentável', 0.41078177094459534),\n",
       " ('incómoda', 0.4073997437953949),\n",
       " ('humilhação', 0.40336549282073975),\n",
       " ('indescritível', 0.4030851721763611),\n",
       " ('horrível', 0.4001830816268921),\n",
       " ('chata', 0.38994747400283813),\n",
       " ('ridícula', 0.3853350281715393),\n",
       " ('louca', 0.38240426778793335),\n",
       " ('esquisita', 0.37833449244499207)]"
      ]
     },
     "execution_count": 22,
     "metadata": {},
     "output_type": "execute_result"
    }
   ],
   "source": [
    "model.wv.most_similar(positive=['insuportável', 'mulher'], negative=['homem'])"
   ]
  },
  {
   "cell_type": "code",
   "execution_count": 23,
   "metadata": {},
   "outputs": [
    {
     "name": "stderr",
     "output_type": "stream",
     "text": [
      "/usr/local/lib/python3.5/dist-packages/ipykernel_launcher.py:1: DeprecationWarning: Call to deprecated `wv` (Attribute will be removed in 4.0.0, use self instead).\n",
      "  \"\"\"Entry point for launching an IPython kernel.\n"
     ]
    },
    {
     "data": {
      "text/plain": [
       "[('latino', 0.47186583280563354),\n",
       " ('grego', 0.4303281307220459),\n",
       " ('hebraico', 0.42146265506744385),\n",
       " ('caracteres', 0.41330960392951965),\n",
       " ('língua', 0.4123696982860565),\n",
       " ('alfabetos', 0.40965116024017334),\n",
       " ('fonético', 0.39919909834861755),\n",
       " ('idioma', 0.3974439799785614),\n",
       " ('símbolos', 0.39648568630218506),\n",
       " ('w', 0.38988196849823)]"
      ]
     },
     "execution_count": 23,
     "metadata": {},
     "output_type": "execute_result"
    }
   ],
   "source": [
    "model.wv.most_similar(positive=['letra', 'alfabeto'], negative=['melodia'])"
   ]
  },
  {
   "cell_type": "code",
   "execution_count": 10,
   "metadata": {},
   "outputs": [
    {
     "name": "stderr",
     "output_type": "stream",
     "text": [
      "/usr/local/lib/python3.5/dist-packages/ipykernel_launcher.py:1: DeprecationWarning: Call to deprecated `wv` (Attribute will be removed in 4.0.0, use self instead).\n",
      "  \"\"\"Entry point for launching an IPython kernel.\n"
     ]
    },
    {
     "data": {
      "text/plain": [
       "[('massas', 0.5250455737113953),\n",
       " ('quantidade', 0.44071322679519653),\n",
       " ('cm0', 0.4234044551849365),\n",
       " ('viscosidade', 0.40865230560302734),\n",
       " ('emissividade', 0.40773266553878784),\n",
       " ('massiva', 0.40523236989974976),\n",
       " ('carga', 0.40504521131515503),\n",
       " ('nitrometano', 0.4035806357860565),\n",
       " ('gasoso', 0.40105992555618286),\n",
       " ('nitroglicerina', 0.4001592993736267)]"
      ]
     },
     "execution_count": 10,
     "metadata": {},
     "output_type": "execute_result"
    }
   ],
   "source": [
    "model.wv.most_similar(positive=['massa'])"
   ]
  },
  {
   "cell_type": "code",
   "execution_count": 25,
   "metadata": {},
   "outputs": [
    {
     "name": "stderr",
     "output_type": "stream",
     "text": [
      "/usr/local/lib/python3.5/dist-packages/ipykernel_launcher.py:1: DeprecationWarning: Call to deprecated `wv` (Attribute will be removed in 4.0.0, use self instead).\n",
      "  \"\"\"Entry point for launching an IPython kernel.\n"
     ]
    },
    {
     "data": {
      "text/plain": [
       "[('linda', 0.3907487988471985),\n",
       " ('melodia', 0.36612778902053833),\n",
       " ('diacrítica', 0.3527085781097412),\n",
       " ('⟨c⟩', 0.3514520525932312),\n",
       " ('canção', 0.34693413972854614),\n",
       " ('música', 0.34569215774536133),\n",
       " ('bonita', 0.33999067544937134),\n",
       " ('balada', 0.3367127478122711),\n",
       " ('canta', 0.32192498445510864),\n",
       " ('frase', 0.32111018896102905)]"
      ]
     },
     "execution_count": 25,
     "metadata": {},
     "output_type": "execute_result"
    }
   ],
   "source": [
    "model.wv.most_similar(positive=['letra'], negative=['alfabeto'])"
   ]
  },
  {
   "cell_type": "code",
   "execution_count": 26,
   "metadata": {},
   "outputs": [
    {
     "name": "stderr",
     "output_type": "stream",
     "text": [
      "/usr/local/lib/python3.5/dist-packages/ipykernel_launcher.py:1: DeprecationWarning: Call to deprecated `wv` (Attribute will be removed in 4.0.0, use self instead).\n",
      "  \"\"\"Entry point for launching an IPython kernel.\n"
     ]
    },
    {
     "data": {
      "text/plain": [
       "[('francês', 0.3914165794849396),\n",
       " ('val-it', 0.37808477878570557),\n",
       " ('saboia', 0.37018197774887085),\n",
       " ('anjou', 0.36947494745254517),\n",
       " ('angoulême', 0.35122135281562805),\n",
       " ('gob-it', 0.34413647651672363),\n",
       " ('afonso', 0.3439541757106781),\n",
       " ('marie-josé', 0.343344122171402),\n",
       " ('francesa', 0.34116601943969727),\n",
       " ('tulasne', 0.3404855728149414)]"
      ]
     },
     "execution_count": 26,
     "metadata": {},
     "output_type": "execute_result"
    }
   ],
   "source": [
    "model.wv.most_similar(positive=['frança'], negative=['alemanha'])"
   ]
  },
  {
   "cell_type": "code",
   "execution_count": null,
   "metadata": {},
   "outputs": [],
   "source": []
  },
  {
   "cell_type": "code",
   "execution_count": null,
   "metadata": {},
   "outputs": [],
   "source": []
  }
 ],
 "metadata": {
  "kernelspec": {
   "display_name": "Python 3",
   "language": "python",
   "name": "python3"
  },
  "language_info": {
   "codemirror_mode": {
    "name": "ipython",
    "version": 3
   },
   "file_extension": ".py",
   "mimetype": "text/x-python",
   "name": "python",
   "nbconvert_exporter": "python",
   "pygments_lexer": "ipython3",
   "version": "3.5.2"
  },
  "widgets": {
   "state": {},
   "version": "1.1.1"
  }
 },
 "nbformat": 4,
 "nbformat_minor": 1
}
